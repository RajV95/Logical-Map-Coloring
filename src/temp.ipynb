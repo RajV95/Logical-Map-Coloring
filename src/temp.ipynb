{
 "cells": [
  {
   "cell_type": "code",
   "execution_count": 1,
   "id": "3e1cb304-3807-46d2-a388-5c959318b7f3",
   "metadata": {},
   "outputs": [],
   "source": [
    "import pytholog as pl\n",
    "import csv"
   ]
  },
  {
   "cell_type": "code",
   "execution_count": 2,
   "id": "72174894-d846-403e-94d1-297bbe9e3f20",
   "metadata": {},
   "outputs": [],
   "source": [
    "# adjSts = {\"Andhra Pradesh\": [\"Telangana\", \"Karnataka\", \"Tamil Nadu\", \"Odisha\", \"Chhattisgarh\"],\n",
    "#              \"Arunachal Pradesh\": [\"Assam\", \"Nagaland\"],\n",
    "#              \"Assam\": [\"Arunachal Pradesh\", \"Nagaland\", \"Manipur\", \"Mizoram\", \"Meghalaya\", \"Tripura\", \"West Bengal\"],\n",
    "#              \"Bihar\": [\"Uttar Pradesh\", \"Jharkhand\", \"West Bengal\"],\n",
    "#              \"Chhattisgarh\": [\"Madhya Pradesh\", \"Maharashtra\", \"Telangana\", \"Odisha\", \"Jharkhand\", \"Uttar Pradesh\"],\n",
    "#              \"Goa\": [\"Maharashtra\", \"Karnataka\"],\n",
    "#              \"Gujarat\": [\"Rajasthan\", \"Madhya Pradesh\", \"Maharashtra\"],\n",
    "#              \"Haryana\": [\"Punjab\", \"Himachal Pradesh\", \"Rajasthan\", \"Uttar Pradesh\"],\n",
    "#              \"Himachal Pradesh\": [\"Punjab\", \"Haryana\", \"Uttarakhand\"],\n",
    "#              \"Jharkhand\": [\"Bihar\", \"West Bengal\", \"Odisha\", \"Chhattisgarh\"],\n",
    "#              \"Karnataka\": [\"Maharashtra\", \"Goa\", \"Tamil Nadu\", \"Andhra Pradesh\", \"Telangana\", \"Kerala\"],\n",
    "#              \"Kerala\": [\"Tamil Nadu\", \"Karnataka\"],\n",
    "#              \"Madhya Pradesh\": [\"Rajasthan\", \"Uttar Pradesh\", \"Chhattisgarh\", \"Maharashtra\", \"Gujarat\", \"Jharkhand\"],\n",
    "#              \"Maharashtra\": [\"Gujarat\", \"Madhya Pradesh\", \"Chhattisgarh\", \"Telangana\", \"Karnataka\", \"Goa\"],\n",
    "#              \"Manipur\": [\"Nagaland\", \"Assam\", \"Mizoram\"],\n",
    "#              \"Meghalaya\": [\"Assam\"],\n",
    "#              \"Mizoram\": [\"Tripura\", \"Assam\", \"Manipur\"], \n",
    "#              \"Nagaland\": [\"Assam\", \"Arunachal Pradesh\", \"Manipur\"], \n",
    "#              \"Odisha\": [\"Jharkhand\", \"Chhattisgarh\", \"Andhra Pradesh\", \"Telangana\", \"West Bengal\"],\n",
    "#              \"Punjab\": [\"Himachal Pradesh\", \"Haryana\", \"Rajasthan\"],\n",
    "#              \"Rajasthan\": [\"Punjab\", \"Haryana\", \"Uttar Pradesh\", \"Madhya Pradesh\", \"Gujarat\"],\n",
    "#              \"Sikkim\": [\"West Bengal\"],\n",
    "#              \"Tamil Nadu\": [\"Kerala\", \"Karnataka\", \"Andhra Pradesh\"],\n",
    "#              \"Telangana\": [\"Maharashtra\", \"Chhattisgarh\", \"Andhra Pradesh\", \"Karnataka\", \"Odisha\"],\n",
    "#              \"Tripura\": [\"Mizoram\", \"Assam\"],\n",
    "#              \"Uttar Pradesh\": [\"Uttarakhand\", \"Himachal Pradesh\", \"Haryana\", \"Rajasthan\", \"Madhya Pradesh\", \"Bihar\"],\n",
    "#              \"Uttarakhand\": [\"Himachal Pradesh\", \"Uttar Pradesh\"],\n",
    "#              \"West Bengal\": [\"Sikkim\", \"Assam\", \"Jharkhand\", \"Bihar\", \"Odisha\"]}\n",
    "\n",
    "# adjSts = {\"Andhra Pradesh\": [\"Telangana\", \"Karnataka\", \"Tamil Nadu\"],\n",
    "#              \"Karnataka\": [\"Tamil Nadu\", \"Andhra Pradesh\", \"Telangana\", \"Kerala\"],\n",
    "#              \"Kerala\": [\"Tamil Nadu\", \"Karnataka\"],\n",
    "#              \"Tamil Nadu\": [\"Kerala\", \"Karnataka\", \"Andhra Pradesh\"],\n",
    "#              \"Telangana\": [\"Andhra Pradesh\", \"Karnataka\"]}"
   ]
  },
  {
   "cell_type": "code",
   "execution_count": 3,
   "id": "21c9a56a-5754-43c9-a177-b6be8c90d2b8",
   "metadata": {},
   "outputs": [],
   "source": [
    "# adjSts = {\"AP\": [\"TE\", \"KA\", \"TN\", \"OD\", \"CH\"],\n",
    "#              \"AR\": [\"AS\", \"NA\"],\n",
    "#              \"AS\": [\"AR\", \"NA\", \"MN\", \"MI\", \"ME\", \"TR\", \"WB\"],\n",
    "#              \"BI\": [\"UP\", \"JH\", \"WB\"],\n",
    "#              \"CH\": [\"MP\", \"MA\", \"TE\", \"OD\", \"JH\", \"UP\"],\n",
    "#              \"GO\": [\"MA\", \"KA\"],\n",
    "#              \"GU\": [\"RA\", \"MP\", \"MA\"],\n",
    "#              \"HA\": [\"PU\", \"HP\", \"RA\", \"UP\"],\n",
    "#              \"HP\": [\"PU\", \"HA\", \"UT\"],\n",
    "#              \"JH\": [\"BI\", \"WB\", \"OD\", \"CH\"],\n",
    "#              \"KA\": [\"MA\", \"GO\", \"TN\", \"AP\", \"TE\", \"KE\"],\n",
    "#              \"KE\": [\"TN\", \"KA\"],\n",
    "#              \"MP\": [\"RA\", \"UP\", \"CH\", \"MA\", \"GU\", \"JH\"],\n",
    "#              \"MA\": [\"GU\", \"MP\", \"CH\", \"TE\", \"KA\", \"GO\"],\n",
    "#              \"MN\": [\"NA\", \"AS\", \"MI\"],\n",
    "#              \"ME\": [\"AS\"],\n",
    "#              \"MI\": [\"TR\", \"AS\", \"MN\"], \n",
    "#              \"NA\": [\"AS\", \"AR\", \"MN\"], \n",
    "#              \"OD\": [\"JH\", \"CH\", \"AP\", \"TE\", \"WB\"],\n",
    "#              \"PU\": [\"HP\", \"HA\", \"RA\"],\n",
    "#              \"RA\": [\"PU\", \"HA\", \"UP\", \"MP\", \"GU\"],\n",
    "#              \"SI\": [\"WB\"],\n",
    "#              \"TN\": [\"KE\", \"KA\", \"AP\"],\n",
    "#              \"TE\": [\"MA\", \"CH\", \"AP\", \"KA\", \"OD\"],\n",
    "#              \"TR\": [\"MI\", \"AS\"],\n",
    "#              \"UP\": [\"UT\", \"HP\", \"HA\", \"RA\", \"MP\", \"BI\"],\n",
    "#              \"UT\": [\"HP\", \"UP\"],\n",
    "#              \"WB\": [\"SI\", \"AS\", \"JH\", \"BI\", \"OD\"]}"
   ]
  },
  {
   "cell_type": "code",
   "execution_count": 3,
   "id": "b3634b8c-0327-4af7-9291-9abc11ba4948",
   "metadata": {},
   "outputs": [],
   "source": [
    "# adjSts = {\"AP\": [\"CH\"],\n",
    "#              \"AR\": [\"AS\"],\n",
    "#              \"AS\": [\"AR\"],\n",
    "#              \"BI\": [\"JH\"],\n",
    "#              \"CH\": [\"JH\"],\n",
    "#              \"HA\": [\"HP\"],\n",
    "#              \"HP\": [\"HA\"],\n",
    "#              \"JH\": [\"BI\", \"CH\"]}"
   ]
  },
  {
   "cell_type": "code",
   "execution_count": 2,
   "id": "1255ac4a-9e42-47b0-86d6-b8e2669cb662",
   "metadata": {},
   "outputs": [],
   "source": [
    "# adjSts = {\"AP\": [\"TE\", \"KA\", \"TN\", \"OD\", \"CH\"],\n",
    "#              \"AR\": [\"AS\", \"NA\"],\n",
    "#              \"AS\": [\"NA\", \"MN\", \"MI\", \"ME\", \"TR\", \"WB\"],\n",
    "#              \"BI\": [\"UP\", \"JH\", \"WB\"],\n",
    "#              \"CH\": [\"MP\", \"MA\", \"TE\", \"OD\", \"JH\", \"UP\"],\n",
    "#              \"GO\": [\"MA\", \"KA\"],\n",
    "#              \"GU\": [\"RA\", \"MP\", \"MA\"],\n",
    "#              \"HA\": [\"PU\", \"HP\", \"RA\", \"UP\"],\n",
    "#              \"HP\": [\"PU\", \"UT\"],\n",
    "#              \"JH\": [\"WB\", \"OD\"],\n",
    "#              \"KA\": [\"MA\", \"TN\", \"TE\", \"KE\"],\n",
    "#              \"KE\": [\"TN\"],\n",
    "#              \"MP\": [\"RA\", \"UP\", \"MA\"],\n",
    "#              \"MA\": [\"TE\"],\n",
    "#              \"MN\": [\"NA\", \"MI\"],\n",
    "#              \"ME\": [],\n",
    "#              \"MI\": [\"TR\"], \n",
    "#              \"NA\": [], \n",
    "#              \"OD\": [\"TE\", \"WB\"],\n",
    "#              \"PU\": [\"RA\"],\n",
    "#              \"RA\": [\"UP\"],\n",
    "#              \"SI\": [\"WB\"],\n",
    "#              \"TN\": [],\n",
    "#              \"TE\": [],\n",
    "#              \"TR\": [],\n",
    "#              \"UP\": [\"UT\"],\n",
    "#              \"UT\": [],\n",
    "#              \"WB\": []}"
   ]
  },
  {
   "cell_type": "code",
   "execution_count": 2,
   "id": "cf3badca-4fe9-4768-87f5-ee4e01e9f103",
   "metadata": {},
   "outputs": [],
   "source": [
    "# adjSts = {\"AP\": [\"KA\", \"TN\", \"CH\"],\n",
    "#              \"AR\": [\"AS\"],\n",
    "#              \"AS\": [\"AR\"],\n",
    "#              \"BI\": [],\n",
    "#              \"CH\": [\"AP\", \"MA\"],\n",
    "#              \"GO\": [\"MA\", \"KA\"],\n",
    "#              \"GU\": [\"MA\"],\n",
    "#              \"HA\": [\"HP\"],\n",
    "#              \"HP\": [\"HA\"],\n",
    "#              \"KA\": [\"AP\", \"GO\", \"MA\", \"TN\", \"KE\"],\n",
    "#              \"KE\": [\"KA\", \"TN\"],\n",
    "#              \"MA\": [\"CH\", \"GO\", \"GU\", \"KA\"],\n",
    "#              \"TN\": [\"AP\", \"KA\", \"KE\"]}"
   ]
  },
  {
   "cell_type": "code",
   "execution_count": 2,
   "id": "122ef44a-1e62-41a7-b551-667b3666d7d2",
   "metadata": {},
   "outputs": [],
   "source": [
    "# adjSts = {\n",
    "#     \"TN\": [\"KE\", \"KA\", \"AP\"],\n",
    "#     \"KE\": [\"TN\", \"KA\"],\n",
    "#     \"KA\": [\"TN\", \"KE\", \"AP\", \"GO\", \"TE\", \"MA\"],\n",
    "#     \"AP\": [\"TN\", \"KA\", \"TE\", \"OD\", \"CH\"],\n",
    "#     \"GO\": [\"KA\", \"MA\"],\n",
    "#     \"TE\": [\"KA\", \"AP\", \"OD\", \"CH\", \"MA\"],\n",
    "#     \"OD\": [\"AP\", \"TE\", \"CH\"],\n",
    "#     \"CH\": [\"AP\", \"TE\", \"OD\", \"MA\", \"MP\"],\n",
    "#     \"MA\": [\"KA\", \"TE\", \"GO\", \"CH\", \"MP\"],\n",
    "#     \"MP\": [\"CH\", \"MA\"]\n",
    "# }"
   ]
  },
  {
   "cell_type": "code",
   "execution_count": 2,
   "id": "b6b00e1a-a6fd-40d8-a7fe-0ba69ad831fe",
   "metadata": {},
   "outputs": [],
   "source": [
    "adjSts = {\n",
    "    \"TN\": [\"KE\", \"KA\", \"AP\"],\n",
    "    \"KE\": [\"TN\", \"KA\"],\n",
    "    \"KA\": [\"TN\", \"KE\", \"AP\", \"GO\", \"TE\", \"MA\"],\n",
    "    \"AP\": [\"TN\", \"KA\", \"TE\", \"OD\", \"CH\"],\n",
    "    \"GO\": [\"KA\", \"MA\"],\n",
    "    \"TE\": [\"KA\", \"AP\", \"OD\", \"CH\", \"MA\"],\n",
    "    \"OD\": [\"AP\", \"TE\", \"CH\", \"WB\", \"JH\"],\n",
    "    \"CH\": [\"AP\", \"TE\", \"OD\", \"MA\", \"MP\", \"JH\", \"UP\"],\n",
    "    \"MA\": [\"KA\", \"TE\", \"GO\", \"CH\", \"MP\", \"GU\"],\n",
    "    \"MP\": [\"CH\", \"MA\", \"UP\", \"RA\", \"GU\"],\n",
    "    \"WB\": [\"OD\", \"JH\"],\n",
    "    \"JH\": [\"OD\", \"CH\", \"WB\"],\n",
    "    \"UP\": [\"CH\", \"JH\", \"MP\"],\n",
    "    \"RA\": [\"MP\", \"UP\", \"GU\"],\n",
    "    \"GU\": [\"MA\", \"MP\", \"RA\"]\n",
    "}"
   ]
  },
  {
   "cell_type": "code",
   "execution_count": 3,
   "id": "608d7fea-e046-4d9c-91d2-843dc5a56486",
   "metadata": {},
   "outputs": [],
   "source": [
    "# adjSts = {}\n",
    "# with open('countryBorders.csv', 'r') as file:\n",
    "#   negihbors = csv.reader(file)\n",
    "#   next(negihbors)\n",
    "\n",
    "#   for row in negihbors:\n",
    "#     if row[0] in adjSts: adjSts[row[0]].append(row[2])\n",
    "#     else: adjSts[row[0]] = [row[2]]"
   ]
  },
  {
   "cell_type": "code",
   "execution_count": 4,
   "id": "07ac0138-c732-41a5-b282-8d3f28d84e45",
   "metadata": {},
   "outputs": [
    {
     "name": "stdout",
     "output_type": "stream",
     "text": [
      "State: TN , Adjacent state(s): ['KE', 'KA', 'AP'] , No.of Adjacent state(s): 3\n",
      "State: KE , Adjacent state(s): ['TN', 'KA'] , No.of Adjacent state(s): 2\n",
      "State: KA , Adjacent state(s): ['TN', 'KE', 'AP', 'GO', 'TE', 'MA'] , No.of Adjacent state(s): 6\n",
      "State: AP , Adjacent state(s): ['TN', 'KA', 'TE', 'OD', 'CH'] , No.of Adjacent state(s): 5\n",
      "State: GO , Adjacent state(s): ['KA', 'MA'] , No.of Adjacent state(s): 2\n",
      "State: TE , Adjacent state(s): ['KA', 'AP', 'OD', 'CH', 'MA'] , No.of Adjacent state(s): 5\n",
      "State: OD , Adjacent state(s): ['AP', 'TE', 'CH', 'WB', 'JH'] , No.of Adjacent state(s): 5\n",
      "State: CH , Adjacent state(s): ['AP', 'TE', 'OD', 'MA', 'MP', 'JH', 'UP'] , No.of Adjacent state(s): 7\n",
      "State: MA , Adjacent state(s): ['KA', 'TE', 'GO', 'CH', 'MP', 'GU'] , No.of Adjacent state(s): 6\n",
      "State: MP , Adjacent state(s): ['CH', 'MA', 'UP', 'RA', 'GU'] , No.of Adjacent state(s): 5\n",
      "State: WB , Adjacent state(s): ['OD', 'JH'] , No.of Adjacent state(s): 2\n",
      "State: JH , Adjacent state(s): ['OD', 'CH', 'WB'] , No.of Adjacent state(s): 3\n",
      "State: UP , Adjacent state(s): ['CH', 'JH', 'MP'] , No.of Adjacent state(s): 3\n",
      "State: RA , Adjacent state(s): ['MP', 'UP', 'GU'] , No.of Adjacent state(s): 3\n",
      "State: GU , Adjacent state(s): ['MA', 'MP', 'RA'] , No.of Adjacent state(s): 3\n",
      "Total no.of states: 15\n"
     ]
    }
   ],
   "source": [
    "for st in adjSts.keys():\n",
    "    print(\"State:\", st, \", Adjacent state(s):\", adjSts[st], \", No.of Adjacent state(s):\", len(adjSts[st]))\n",
    "\n",
    "print(\"Total no.of states:\", len(adjSts.keys()))"
   ]
  },
  {
   "cell_type": "code",
   "execution_count": 5,
   "id": "dcecf4f6-8596-4a8f-9ec4-583bfd9a5a45",
   "metadata": {},
   "outputs": [
    {
     "name": "stdout",
     "output_type": "stream",
     "text": [
      "{'TN': 0, 'KE': 1, 'KA': 2, 'AP': 3, 'GO': 4, 'TE': 5, 'OD': 6, 'CH': 7, 'MA': 8, 'MP': 9, 'WB': 10, 'JH': 11, 'UP': 12, 'RA': 13, 'GU': 14}\n"
     ]
    }
   ],
   "source": [
    "assign = {}\n",
    "i = 0\n",
    "for st in adjSts.keys():\n",
    "    assign[st] = i\n",
    "    i += 1\n",
    "\n",
    "print(assign)"
   ]
  },
  {
   "cell_type": "code",
   "execution_count": 6,
   "id": "bb77fabd-a911-46a1-b7fd-7dee543957b1",
   "metadata": {},
   "outputs": [],
   "source": [
    "kb = pl.KnowledgeBase()\n",
    "\n",
    "for st in adjSts.keys(): kb([f\"State({assign[st]})\"])"
   ]
  },
  {
   "cell_type": "code",
   "execution_count": 7,
   "id": "da3aacbc-39c1-4ffb-a30b-1acd307803aa",
   "metadata": {},
   "outputs": [],
   "source": [
    "for st1 in adjSts.keys():\n",
    "    if adjSts[st1] != []:\n",
    "        for st2 in adjSts[st1]:\n",
    "            kb([f\"Adjacent({assign[st1]}, {assign[st2]})\"])"
   ]
  },
  {
   "cell_type": "code",
   "execution_count": 8,
   "id": "24019fa9-b3cd-4ce9-bb52-c2eb635d8b62",
   "metadata": {},
   "outputs": [
    {
     "name": "stdout",
     "output_type": "stream",
     "text": [
      "{'TN': 0, 'KE': 1, 'KA': 2, 'AP': 3, 'GO': 4, 'TE': 5, 'OD': 6, 'CH': 7, 'MA': 8, 'MP': 9, 'WB': 10, 'JH': 11, 'UP': 12, 'RA': 13, 'GU': 14, 'red': -1, 'green': -2, 'blue': -3, 'yellow': -4}\n"
     ]
    }
   ],
   "source": [
    "colors = [\"red\", \"green\", \"blue\", \"yellow\"]\n",
    "i = -1\n",
    "for clr in colors:\n",
    "    assign[clr] = i\n",
    "    i -= 1\n",
    "\n",
    "print(assign)\n",
    "for clr in colors:\n",
    "    kb([f\"Color({assign[clr]})\"])"
   ]
  },
  {
   "cell_type": "code",
   "execution_count": 9,
   "id": "687edf84-e112-4a5a-8f0e-f7af655a0f22",
   "metadata": {},
   "outputs": [],
   "source": [
    "for clr in colors:\n",
    "    kb([f\"ClrEq({assign[clr]}, {assign[clr]})\"])\n",
    "\n",
    "for clr1 in colors:\n",
    "    for clr2 in colors:\n",
    "        if clr1 != clr2:\n",
    "            kb([f\"ClrNotEq({assign[clr1]}, {assign[clr2]})\"])"
   ]
  },
  {
   "cell_type": "code",
   "execution_count": 10,
   "id": "087cc7d8-f75f-4198-bb65-05d9dd32ed1e",
   "metadata": {},
   "outputs": [],
   "source": [
    "# for st in adjSts.keys():\n",
    "#     kb([f\"Colored({assign[st]}, {assign[colors[0]]})\"])"
   ]
  },
  {
   "cell_type": "code",
   "execution_count": 11,
   "id": "22c98d38-e88f-42c3-9bd4-d7ccb0c1631e",
   "metadata": {},
   "outputs": [
    {
     "name": "stdout",
     "output_type": "stream",
     "text": [
      "Coloring(TN, KE, KA, AP, GO, TE, OD, CH, MA, MP, WB, JH, UP, RA, GU) :- ClrNotEq(TN, KE), ClrNotEq(TN, KA), ClrNotEq(TN, AP), ClrNotEq(KE, TN), ClrNotEq(KE, KA), ClrNotEq(KA, TN), ClrNotEq(KA, KE), ClrNotEq(KA, AP), ClrNotEq(KA, GO), ClrNotEq(KA, TE), ClrNotEq(KA, MA), ClrNotEq(AP, TN), ClrNotEq(AP, KA), ClrNotEq(AP, TE), ClrNotEq(AP, OD), ClrNotEq(AP, CH), ClrNotEq(GO, KA), ClrNotEq(GO, MA), ClrNotEq(TE, KA), ClrNotEq(TE, AP), ClrNotEq(TE, OD), ClrNotEq(TE, CH), ClrNotEq(TE, MA), ClrNotEq(OD, AP), ClrNotEq(OD, TE), ClrNotEq(OD, CH), ClrNotEq(OD, WB), ClrNotEq(OD, JH), ClrNotEq(CH, AP), ClrNotEq(CH, TE), ClrNotEq(CH, OD), ClrNotEq(CH, MA), ClrNotEq(CH, MP), ClrNotEq(CH, JH), ClrNotEq(CH, UP), ClrNotEq(MA, KA), ClrNotEq(MA, TE), ClrNotEq(MA, GO), ClrNotEq(MA, CH), ClrNotEq(MA, MP), ClrNotEq(MA, GU), ClrNotEq(MP, CH), ClrNotEq(MP, MA), ClrNotEq(MP, UP), ClrNotEq(MP, RA), ClrNotEq(MP, GU), ClrNotEq(WB, OD), ClrNotEq(WB, JH), ClrNotEq(JH, OD), ClrNotEq(JH, CH), ClrNotEq(JH, WB), ClrNotEq(UP, CH), ClrNotEq(UP, JH), ClrNotEq(UP, MP), ClrNotEq(RA, MP), ClrNotEq(RA, UP), ClrNotEq(RA, GU), ClrNotEq(GU, MA), ClrNotEq(GU, MP), ClrNotEq(GU, RA)\n"
     ]
    }
   ],
   "source": [
    "q = f\"Coloring({', '.join(adjSts.keys())})\"\n",
    "rule = q + \" :- \"\n",
    "noAdjEqClr = []\n",
    "for st1 in adjSts.keys():\n",
    "    if adjSts[st1] != []:\n",
    "        for st2 in adjSts[st1]:\n",
    "            noAdjEqClr.append(f\"ClrNotEq({st1}, {st2})\")\n",
    "\n",
    "rule += f\"{', '.join(noAdjEqClr)}\"\n",
    "kb([rule])\n",
    "print(rule)"
   ]
  },
  {
   "cell_type": "code",
   "execution_count": 12,
   "id": "415e8809-f02d-4bbe-bbf8-463e8109e0f1",
   "metadata": {},
   "outputs": [],
   "source": [
    "def getKey(val, dictn):\n",
    "    val = int(val)\n",
    "    for key in dictn.keys():\n",
    "        if dictn[key] == val:\n",
    "            return key\n",
    "\n",
    "    return \"Value not found\""
   ]
  },
  {
   "cell_type": "code",
   "execution_count": 13,
   "id": "713f9951-97e4-4e05-91d8-7e584eb8ab0d",
   "metadata": {},
   "outputs": [
    {
     "name": "stdout",
     "output_type": "stream",
     "text": [
      "Coloring(TN, KE, KA, AP, GO, TE, OD, CH, MA, MP, WB, JH, UP, RA, GU)\n",
      "{'TN': '-1', 'KE': '-2', 'KA': '-3', 'AP': '-2', 'GO': '-1', 'TE': '-1', 'OD': '-3', 'CH': '-4', 'MA': '-2', 'MP': '-1', 'WB': '-1', 'JH': '-2', 'UP': '-3', 'RA': '-2', 'GU': '-3'}\n",
      "\n",
      "No.of Colors used: 4\n",
      "TN : red\n",
      "KE : green\n",
      "KA : blue\n",
      "AP : green\n",
      "GO : red\n",
      "TE : red\n",
      "OD : blue\n",
      "CH : yellow\n",
      "MA : green\n",
      "MP : red\n",
      "WB : red\n",
      "JH : green\n",
      "UP : blue\n",
      "RA : green\n",
      "GU : blue\n"
     ]
    }
   ],
   "source": [
    "print(q)\n",
    "results = kb.query(pl.Expr(q))\n",
    "minClrs = 5\n",
    "for res in results:\n",
    "    if len(set(res.values())) < minClrs:\n",
    "        print(res)\n",
    "        minClrs = len(set(res.values()))\n",
    "        print(\"\\nNo.of Colors used:\", minClrs)\n",
    "        for st in res.keys():\n",
    "            print(st, \":\", getKey(res[st], assign))\n",
    "            kb([f\"Colored({assign[st]}, {res[st]})\"])"
   ]
  },
  {
   "cell_type": "code",
   "execution_count": 14,
   "id": "3b1d90da-236d-4958-981c-523e88f0052f",
   "metadata": {},
   "outputs": [],
   "source": [
    "kb([\"StClrd(X) :- State(X), Color(C), Colored(X, C)\"])"
   ]
  },
  {
   "cell_type": "code",
   "execution_count": 15,
   "id": "e9ab1b79-81fd-418c-b4ae-13a549e63a8d",
   "metadata": {},
   "outputs": [
    {
     "name": "stdout",
     "output_type": "stream",
     "text": [
      "[{'X': '0'}, {'X': '1'}, {'X': '10'}, {'X': '11'}, {'X': '12'}, {'X': '13'}, {'X': '14'}, {'X': '2'}, {'X': '3'}, {'X': '4'}, {'X': '5'}, {'X': '6'}, {'X': '7'}, {'X': '8'}, {'X': '9'}]\n",
      "States satifying the logic: [0, 1, 2, 3, 4, 5, 6, 7, 8, 9, 10, 11, 12, 13, 14]\n",
      "All States                : [0, 1, 2, 3, 4, 5, 6, 7, 8, 9, 10, 11, 12, 13, 14]\n",
      "Valid\n"
     ]
    }
   ],
   "source": [
    "def checkOnlyOneClr(kb):\n",
    "    results = kb.query(pl.Expr(\"StClrd(X)\"))\n",
    "    print(results)\n",
    "    stStfy = [int(result['X']) for result in results]\n",
    "    stStfy.sort()\n",
    "    print(\"States satifying the logic:\", stStfy)\n",
    "    \n",
    "    stAll = [int(f\"{assign[st]}\") for st in adjSts.keys()]\n",
    "    print(\"All States                :\", stAll)\n",
    "\n",
    "    return stStfy == stAll\n",
    "\n",
    "if checkOnlyOneClr(kb): print(\"Valid\")"
   ]
  },
  {
   "cell_type": "code",
   "execution_count": 16,
   "id": "e3e8408d-202c-40a2-bebe-90fc08a6cc86",
   "metadata": {},
   "outputs": [],
   "source": [
    "kb([\"AdjSameClr(X, Y) :- State(X), State(Y), Adjacent(X, Y), Color(C1), Color(C2), Colored(X, C1), Colored(Y, C2), ClrEq(C1, C2)\"])"
   ]
  },
  {
   "cell_type": "code",
   "execution_count": 17,
   "id": "5728241f-41fe-477a-9794-c64a44309eec",
   "metadata": {},
   "outputs": [
    {
     "name": "stdout",
     "output_type": "stream",
     "text": [
      "['No']\n",
      "Valid\n"
     ]
    }
   ],
   "source": [
    "def checkAdjSameClr(kb):\n",
    "    results = kb.query(pl.Expr(\"AdjSameClr(X, Y)\"))\n",
    "    print(results)\n",
    "    return results[0]\n",
    "\n",
    "if checkAdjSameClr(kb) == 'No': print(\"Valid\")"
   ]
  },
  {
   "cell_type": "code",
   "execution_count": null,
   "id": "bc78b5e8",
   "metadata": {},
   "outputs": [],
   "source": []
  }
 ],
 "metadata": {
  "kernelspec": {
   "display_name": "Python 3 (ipykernel)",
   "language": "python",
   "name": "python3"
  },
  "language_info": {
   "codemirror_mode": {
    "name": "ipython",
    "version": 3
   },
   "file_extension": ".py",
   "mimetype": "text/x-python",
   "name": "python",
   "nbconvert_exporter": "python",
   "pygments_lexer": "ipython3",
   "version": "3.12.2"
  }
 },
 "nbformat": 4,
 "nbformat_minor": 5
}
